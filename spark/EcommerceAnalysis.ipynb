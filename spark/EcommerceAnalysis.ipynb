{
 "cells": [
  {
   "cell_type": "code",
   "execution_count": 1,
   "id": "b02b07c2-12e9-4e0c-92dd-86065b712d0e",
   "metadata": {},
   "outputs": [],
   "source": [
    "from pyspark.sql import SparkSession\n",
    "from pyspark.sql.window import Window\n",
    "import pyspark.sql.functions as F"
   ]
  },
  {
   "cell_type": "code",
   "execution_count": null,
   "id": "8602da43-f81d-4b39-89e9-883498a98881",
   "metadata": {},
   "outputs": [],
   "source": [
    "# Create Spark session\n",
    "spark = SparkSession \\\n",
    "    .builder.appName(\"EcommerceAnalysis\") \\\n",
    "    .getOrCreate()"
   ]
  },
  {
   "cell_type": "code",
   "execution_count": 3,
   "id": "531514bc-d255-4552-a2a3-ab237666ea5f",
   "metadata": {},
   "outputs": [],
   "source": [
    "file = \"dataset_pq/2019-Oct/part-00000-6a99fc51-2c5d-4c07-8a45-fd3d071b37a8-c000.snappy.parquet\""
   ]
  },
  {
   "cell_type": "code",
   "execution_count": null,
   "id": "449bd74f-8951-4370-8b66-09d01bd6e680",
   "metadata": {},
   "outputs": [],
   "source": [
    "# Load data (example)\n",
    "df = spark.read.p\n",
    ".option(\"table\", \"fleet-aleph-447822-a2.e_commerce_dataset.e-com-sample\").load()\n",
    "\n",
    "# Define window partitioned by user_id, product_id ordered by event_time\n",
    "window_spec = Window.partitionBy(\"user_id\", \"product_id\").orderBy(\"event_time\")\n",
    "\n",
    "# Add cumulative counts\n",
    "df = df.withColumn(\"cumulative_views\", F.sum(F.when(F.col(\"event_type\") == \"view\", 1).otherwise(0)).over(window_spec))\n",
    "df = df.withColumn(\"cumulative_carts\", F.sum(F.when(F.col(\"event_type\") == \"cart\", 1).otherwise(0)).over(window_spec))\n",
    "df = df.withColumn(\"cumulative_purchases\", F.sum(F.when(F.col(\"event_type\") == \"purchase\", 1).otherwise(0)).over(window_spec))\n",
    "\n",
    "# Filter only cart & purchase events, then get min views before each\n",
    "result = df.filter(F.col(\"event_type\").isin([\"cart\", \"purchase\"])) \\\n",
    "           .groupBy(\"user_id\", \"product_id\") \\\n",
    "           .agg(F.min(\"cumulative_views\").alias(\"views_before_carting\"),\n",
    "                F.min(\"cumulative_views\").alias(\"views_before_purchasing\"))\n",
    "\n",
    "result.show()\n"
   ]
  }
 ],
 "metadata": {
  "kernelspec": {
   "display_name": "Python 3 (ipykernel)",
   "language": "python",
   "name": "python3"
  },
  "language_info": {
   "codemirror_mode": {
    "name": "ipython",
    "version": 3
   },
   "file_extension": ".py",
   "mimetype": "text/x-python",
   "name": "python",
   "nbconvert_exporter": "python",
   "pygments_lexer": "ipython3",
   "version": "3.10.12"
  }
 },
 "nbformat": 4,
 "nbformat_minor": 5
}
